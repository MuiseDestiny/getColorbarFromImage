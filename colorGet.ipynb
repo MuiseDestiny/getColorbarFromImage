{
 "cells": [
  {
   "cell_type": "code",
   "execution_count": 416,
   "id": "a263f094-fed6-44fe-b272-6b31fc71b1f0",
   "metadata": {
    "execution": {
     "iopub.execute_input": "2021-06-06T13:27:08.941596Z",
     "iopub.status.busy": "2021-06-06T13:27:08.941596Z",
     "iopub.status.idle": "2021-06-06T13:27:08.955559Z",
     "shell.execute_reply": "2021-06-06T13:27:08.954563Z",
     "shell.execute_reply.started": "2021-06-06T13:27:08.941596Z"
    },
    "tags": []
   },
   "outputs": [],
   "source": [
    "from PIL import ImageGrab\n",
    "import numpy as np\n",
    "from PIL import Image\n",
    "import matplotlib.pyplot as plt \n",
    "import matplotlib as mpl\n",
    "import pyperclip"
   ]
  },
  {
   "cell_type": "markdown",
   "id": "ccebb85b-7f72-4355-a3f3-69bb9d6bfafa",
   "metadata": {
    "heading_collapsed": "true",
    "tags": []
   },
   "source": [
    "### old"
   ]
  },
  {
   "cell_type": "code",
   "execution_count": 270,
   "id": "62a8fe04-ae5b-4ebf-ada3-d019634faef2",
   "metadata": {
    "execution": {
     "iopub.execute_input": "2021-06-06T11:16:58.907946Z",
     "iopub.status.busy": "2021-06-06T11:16:58.907946Z",
     "iopub.status.idle": "2021-06-06T11:16:59.101946Z",
     "shell.execute_reply": "2021-06-06T11:16:59.101946Z",
     "shell.execute_reply.started": "2021-06-06T11:16:58.907946Z"
    },
    "tags": []
   },
   "outputs": [
    {
     "name": "stdout",
     "output_type": "stream",
     "text": [
      "[(875, (255, 157, 2)), (514, (254, 203, 2)), (379, (252, 99, 3)), (45, (250, 237, 7)), (825, (243, 23, 7)), (996, (239, 247, 189)), (1428, (219, 251, 84)), (914, (254, 205, 2)), (1422, (167, 247, 159)), (574, (254, 155, 2)), (774, (5, 159, 249)), (1385, (1, 95, 253)), (678, (0, 163, 252)), (1362, (254, 250, 2)), (57, (194, 160, 86)), (42, (178, 252, 138)), (51, (0, 91, 252)), (1072, (255, 99, 0)), (46, (101, 244, 182)), (1411, (0, 255, 208)), (1349, (0, 255, 249)), (864, (15, 80, 236)), (37, (4, 242, 240)), (1425, (2, 228, 246)), (60, (0, 228, 236))]\n",
      "['#DBFB54', '#02E4F6', '#A7F79F', '#00FFD0', '#015FFD', '#FEFA02', '#00FFF9', '#FF6300', '#EFF7BD', '#FECD02', '#FF9D02', '#0F50EC', '#F31707']\n",
      "13\n"
     ]
    },
    {
     "data": {
      "image/png": "[encoded data removed]",
      "text/plain": [
       "<PIL.BmpImagePlugin.DibImageFile image mode=RGB size=885x21 at 0x2BA309B4E80>"
      ]
     },
     "execution_count": 270,
     "metadata": {},
     "output_type": "execute_result"
    },
    {
     "data": {
      "image/png": "[encoded data removed]",
      "text/plain": [
       "<Figure size 480x320 with 1 Axes>"
      ]
     },
     "metadata": {
      "needs_background": "light"
     },
     "output_type": "display_data"
    }
   ],
   "source": [
    "num_colors = 13\n",
    "threshold = 1\n",
    "image = ImageGrab.grabclipboard()\n",
    "if image is None:\n",
    "    raise IOError('检测到剪贴板没有图片')\n",
    "result = image.convert('P', palette=Image.ADAPTIVE, colors=num_colors*2)\n",
    "result = result.convert('RGB')\n",
    "main_colors = result.getcolors()\n",
    "print(main_colors)\n",
    "# 排序\n",
    "sort_colors = []\n",
    "for _ in range(len(main_colors)):\n",
    "    max_color = [0, (0, 0, 0)]\n",
    "    for i in main_colors:\n",
    "        if i[0] >= max_color[0]:\n",
    "            max_color = i\n",
    "    sort_colors.append(max_color)\n",
    "    main_colors.remove(max_color)\n",
    "\n",
    "sort_colors = sort_colors[:num_colors]\n",
    "# 去除相似颜色\n",
    "i = 0\n",
    "while i < len(sort_colors):\n",
    "    count, rgb = sort_colors[i]\n",
    "    if np.cov(rgb)**0.5 <= threshold:\n",
    "        sort_colors.remove(sort_colors[i])\n",
    "        i -= 1\n",
    "    for count, RGB in sort_colors[:i]:\n",
    "        if np.cov([RGB[i]-rgb[i] for i in range(3)])**0.5 <= threshold:\n",
    "            sort_colors.remove(sort_colors[i])\n",
    "    i += 1\n",
    "\n",
    "hex_colors = []\n",
    "hex_counts = []\n",
    "select_colors = []\n",
    "for count, RGB in sort_colors:\n",
    "    color = '#'\n",
    "    for i in RGB:\n",
    "        color += str(hex(i))[-2:].replace('x', '0').upper()\n",
    "    hex_colors.append(color)\n",
    "    hex_counts.append(count)\n",
    "    select_colors.append(RGB)\n",
    "\n",
    "print(hex_colors)\n",
    "plt.figure(dpi=80)\n",
    "plt.bar(range(len(hex_counts)), hex_counts, color=(hex_colors))  \n",
    "ax = plt.gca()\n",
    "ax.set_xticks(range(len(hex_colors)))\n",
    "ax.set_xticklabels(hex_colors, rotation=45)\n",
    "print(len(hex_colors))\n",
    "image"
   ]
  },
  {
   "cell_type": "markdown",
   "id": "2fbe4440-987f-4076-9a11-f3754dc7d0f9",
   "metadata": {},
   "source": [
    "### New"
   ]
  },
  {
   "cell_type": "code",
   "execution_count": 369,
   "id": "641a0ad3-c54e-4f7b-b4fa-69b5729d2410",
   "metadata": {
    "execution": {
     "iopub.execute_input": "2021-06-06T13:00:05.175561Z",
     "iopub.status.busy": "2021-06-06T13:00:05.175561Z",
     "iopub.status.idle": "2021-06-06T13:00:05.185533Z",
     "shell.execute_reply": "2021-06-06T13:00:05.184536Z",
     "shell.execute_reply.started": "2021-06-06T13:00:05.175561Z"
    },
    "tags": []
   },
   "outputs": [],
   "source": [
    "def get_crop_color(im):\n",
    "    result = im.convert('P', palette=Image.ADAPTIVE, colors=5)\n",
    "    result = result.convert('RGB')\n",
    "    count_colors = result.getcolors()\n",
    "    for count, RGB in count_colors:\n",
    "        if np.cov(RGB)**0.5 <= 10 and np.mean(RGB) > 250:\n",
    "            count_colors.remove((count, RGB))\n",
    "    counts = [i[0] for i in count_colors]\n",
    "    colors = [i[1] for i in count_colors]\n",
    "    return colors[counts.index(max(counts))]"
   ]
  },
  {
   "cell_type": "code",
   "execution_count": 474,
   "id": "352700d8-9915-43d6-b831-76bf47f8195f",
   "metadata": {
    "execution": {
     "iopub.execute_input": "2021-06-06T14:04:42.934286Z",
     "iopub.status.busy": "2021-06-06T14:04:42.933256Z",
     "iopub.status.idle": "2021-06-06T14:04:43.093888Z",
     "shell.execute_reply": "2021-06-06T14:04:43.093888Z",
     "shell.execute_reply.started": "2021-06-06T14:04:42.934286Z"
    },
    "tags": []
   },
   "outputs": [
    {
     "name": "stdout",
     "output_type": "stream",
     "text": [
      "['#FF0000', '#FF7B00', '#FFBE00', '#FFFA00', '#CDFC71', '#47FEC0', '#00FFFF', '#00BFFF', '#007FFF', '#0039FF']\n",
      "已成功写入剪贴板√\n"
     ]
    },
    {
     "data": {
      "image/png": "[encoded data removed]",
      "text/plain": [
       "<PIL.Image.Image image mode=RGB size=396x24 at 0x2BA353442B0>"
      ]
     },
     "execution_count": 474,
     "metadata": {},
     "output_type": "execute_result"
    },
    {
     "data": {
      "image/png": "[encoded data removed]",
      "text/plain": [
       "<Figure size 1800x54 with 1 Axes>"
      ]
     },
     "metadata": {
      "needs_background": "light"
     },
     "output_type": "display_data"
    }
   ],
   "source": [
    "num_colors = 23\n",
    "main_colors = []\n",
    "img = ImageGrab.grabclipboard()\n",
    "if img is None:\n",
    "    print('检测到剪贴板没有图片')\n",
    "# 旋转\n",
    "Width, Height = img.size\n",
    "if Height > Width:\n",
    "    img = img.transpose(Image.ROTATE_90)\n",
    "    Width, Height = Height, Width\n",
    "width = Width / num_colors\n",
    "for i in range(num_colors):\n",
    "    left = width * i\n",
    "    upper = 0\n",
    "    right = left + width\n",
    "    lower = Height\n",
    "    crop_img = img.crop([left, upper, right, lower])\n",
    "    main_colors.append(get_crop_color(crop_img))\n",
    "\n",
    "# remove similiar colors\n",
    "threshold = 1\n",
    "i = 0\n",
    "while True:\n",
    "    if i >= len(main_colors):\n",
    "        break\n",
    "    b = True\n",
    "    rgb = main_colors[i]\n",
    "    if np.cov(rgb)**0.5 <= threshold:\n",
    "        main_colors.remove(rgb)\n",
    "        continue\n",
    "    for RGB in main_colors[:i]:\n",
    "        if np.cov([RGB[i]-rgb[i] for i in range(3)])**0.5 <= threshold:\n",
    "            main_colors.remove(rgb)\n",
    "            b = False\n",
    "            break\n",
    "    i += int(b)\n",
    "# convert to hex colors\n",
    "hex_colors = []\n",
    "select_colors = []\n",
    "for RGB in main_colors:\n",
    "    color = '#'\n",
    "    for i in RGB:\n",
    "        color += str(hex(i))[-2:].replace('x', '0').upper()\n",
    "    hex_colors.append(color)\n",
    "    select_colors.append(RGB)\n",
    "print(hex_colors)\n",
    "pyperclip.copy(str(hex_colors))\n",
    "print('已成功写入剪贴板√')\n",
    "fig, ax = plt.subplots(figsize=(12, 0.36), dpi=150)\n",
    "cmap = mpl.colors.ListedColormap(hex_colors[1:-1] if len(hex_colors) >= 3 else hex_colors)\n",
    "cmap.set_under(hex_colors[0])\n",
    "cmap.set_over(hex_colors[-1])\n",
    "plt.colorbar(mpl.cm.ScalarMappable(cmap=cmap, norm=mpl.colors.Normalize(1, 10)), \n",
    "             orientation='horizontal', extend='both', cax=ax)\n",
    "img"
   ]
  }
 ],
 "metadata": {
  "kernelspec": {
   "display_name": "Python 3",
   "language": "python",
   "name": "python3"
  },
  "language_info": {
   "codemirror_mode": {
    "name": "ipython",
    "version": 3
   },
   "file_extension": ".py",
   "mimetype": "text/x-python",
   "name": "python",
   "nbconvert_exporter": "python",
   "pygments_lexer": "ipython3",
   "version": "3.8.5"
  },
  "widgets": {
   "application/vnd.jupyter.widget-state+json": {
    "state": {},
    "version_major": 2,
    "version_minor": 0
   }
  }
 },
 "nbformat": 4,
 "nbformat_minor": 5
}
